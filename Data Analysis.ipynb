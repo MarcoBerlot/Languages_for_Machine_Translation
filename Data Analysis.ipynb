{
 "cells": [
  {
   "cell_type": "markdown",
   "metadata": {},
   "source": [
    "# Importing the corpus\n"
   ]
  },
  {
   "cell_type": "code",
   "execution_count": 1,
   "metadata": {},
   "outputs": [
    {
     "ename": "KeyboardInterrupt",
     "evalue": "",
     "output_type": "error",
     "traceback": [
      "\u001b[0;31m---------------------------------------------------------------------------\u001b[0m",
      "\u001b[0;31mKeyboardInterrupt\u001b[0m                         Traceback (most recent call last)",
      "\u001b[0;32m<ipython-input-1-8a052da1e584>\u001b[0m in \u001b[0;36m<module>\u001b[0;34m()\u001b[0m\n\u001b[1;32m      9\u001b[0m             \u001b[0mword\u001b[0m\u001b[0;34m=\u001b[0m\u001b[0mword\u001b[0m\u001b[0;34m.\u001b[0m\u001b[0mreplace\u001b[0m\u001b[0;34m(\u001b[0m\u001b[0;34m\"\\n\"\u001b[0m\u001b[0;34m,\u001b[0m\u001b[0;34m\"\"\u001b[0m\u001b[0;34m)\u001b[0m\u001b[0;34m\u001b[0m\u001b[0m\n\u001b[1;32m     10\u001b[0m             \u001b[0;32mif\u001b[0m\u001b[0;34m(\u001b[0m\u001b[0mword\u001b[0m \u001b[0;32mnot\u001b[0m \u001b[0;32min\u001b[0m \u001b[0mpuncList\u001b[0m\u001b[0;34m)\u001b[0m\u001b[0;34m:\u001b[0m\u001b[0;34m\u001b[0m\u001b[0m\n\u001b[0;32m---> 11\u001b[0;31m                 \u001b[0;32mif\u001b[0m \u001b[0mword\u001b[0m\u001b[0;34m.\u001b[0m\u001b[0mreplace\u001b[0m\u001b[0;34m(\u001b[0m\u001b[0;34m'.'\u001b[0m\u001b[0;34m,\u001b[0m\u001b[0;34m''\u001b[0m\u001b[0;34m,\u001b[0m\u001b[0;36m1\u001b[0m\u001b[0;34m)\u001b[0m\u001b[0;34m.\u001b[0m\u001b[0misdigit\u001b[0m\u001b[0;34m(\u001b[0m\u001b[0;34m)\u001b[0m\u001b[0;34m:\u001b[0m\u001b[0;34m\u001b[0m\u001b[0m\n\u001b[0m\u001b[1;32m     12\u001b[0m                     \u001b[0mword\u001b[0m\u001b[0;34m=\u001b[0m\u001b[0;34m\"DIG\"\u001b[0m\u001b[0;34m\u001b[0m\u001b[0m\n\u001b[1;32m     13\u001b[0m                 \u001b[0msentence\u001b[0m\u001b[0;34m.\u001b[0m\u001b[0mappend\u001b[0m\u001b[0;34m(\u001b[0m\u001b[0mword\u001b[0m\u001b[0;34m)\u001b[0m\u001b[0;34m\u001b[0m\u001b[0m\n",
      "\u001b[0;31mKeyboardInterrupt\u001b[0m: "
     ]
    }
   ],
   "source": [
    "corpus_fr=[]\n",
    "corpus_en=[]\n",
    "puncList = [\".\",\";\",\":\",\"!\",\"?\",\"/\",\"\\\\\",\",\",\"#\",\"@\",\"$\",\"&\",\")\",\"(\",\"\\\"\",\"...\"]\n",
    "i=0\n",
    "with open (\"train_fr.fr\", \"r\",encoding=\"utf8\") as myfile:\n",
    "    for line in myfile:\n",
    "        sentence=[]\n",
    "        for word in line.split(\" \"):\n",
    "            word=word.replace(\"\\n\",\"\")\n",
    "            if(word not in puncList):\n",
    "                if word.replace('.','',1).isdigit():\n",
    "                    word=\"DIG\"\n",
    "                sentence.append(word) \n",
    "        corpus_fr.append(sentence)\n",
    "      \n",
    "\n",
    "       \n",
    "with open (\"train_en.en\", \"r\",encoding=\"utf8\") as myfile:\n",
    "    for line in myfile:\n",
    "        sentence=[]\n",
    "        for word in line.split(\" \"):\n",
    "            word=word.replace(\"\\n\",\"\")\n",
    "            if(word not in puncList):\n",
    "                if word.replace('.','',1).isdigit():\n",
    "                    word=\"DIG\"\n",
    "                sentence.append(word) \n",
    "        corpus_en.append(sentence)\n"
   ]
  },
  {
   "cell_type": "code",
   "execution_count": 2,
   "metadata": {},
   "outputs": [
    {
     "data": {
      "text/plain": [
       "True"
      ]
     },
     "execution_count": 2,
     "metadata": {},
     "output_type": "execute_result"
    }
   ],
   "source": [
    "len(corpus_en) == len(corpus_fr)"
   ]
  },
  {
   "cell_type": "markdown",
   "metadata": {},
   "source": [
    "# Building the dictionary for word2Vec"
   ]
  },
  {
   "cell_type": "code",
   "execution_count": 3,
   "metadata": {
    "collapsed": true
   },
   "outputs": [],
   "source": [
    "from gensim.models import word2vec"
   ]
  },
  {
   "cell_type": "code",
   "execution_count": 4,
   "metadata": {},
   "outputs": [],
   "source": [
    "model_en=word2vec.Word2Vec(corpus_en,min_count=1)"
   ]
  },
  {
   "cell_type": "code",
   "execution_count": 5,
   "metadata": {},
   "outputs": [],
   "source": [
    "model_fr=word2vec.Word2Vec(corpus_fr,min_count=1)"
   ]
  },
  {
   "cell_type": "code",
   "execution_count": 6,
   "metadata": {
    "collapsed": true
   },
   "outputs": [],
   "source": [
    "from sklearn.manifold import TSNE\n",
    "tsne = TSNE(n_components=2, random_state=0)"
   ]
  },
  {
   "cell_type": "code",
   "execution_count": 7,
   "metadata": {},
   "outputs": [
    {
     "name": "stderr",
     "output_type": "stream",
     "text": [
      "/anaconda3/lib/python3.6/site-packages/ipykernel_launcher.py:1: DeprecationWarning: Call to deprecated `__getitem__` (Method will be removed in 4.0.0, use self.wv.__getitem__() instead).\n",
      "  \"\"\"Entry point for launching an IPython kernel.\n"
     ]
    }
   ],
   "source": [
    "X_fr = model_fr[model_fr.wv.vocab]"
   ]
  },
  {
   "cell_type": "code",
   "execution_count": 8,
   "metadata": {},
   "outputs": [
    {
     "name": "stderr",
     "output_type": "stream",
     "text": [
      "/anaconda3/lib/python3.6/site-packages/ipykernel_launcher.py:1: DeprecationWarning: Call to deprecated `__getitem__` (Method will be removed in 4.0.0, use self.wv.__getitem__() instead).\n",
      "  \"\"\"Entry point for launching an IPython kernel.\n"
     ]
    }
   ],
   "source": [
    "X_en = model_en[model_en.wv.vocab]"
   ]
  },
  {
   "cell_type": "markdown",
   "metadata": {},
   "source": [
    "# PCA and Visualization"
   ]
  },
  {
   "cell_type": "code",
   "execution_count": 10,
   "metadata": {},
   "outputs": [],
   "source": [
    "from sklearn.decomposition import PCA\n",
    "pca = PCA(n_components=2)\n",
    "result_fr_pca = pca.fit_transform(X_fr)"
   ]
  },
  {
   "cell_type": "code",
   "execution_count": 11,
   "metadata": {
    "collapsed": true
   },
   "outputs": [],
   "source": [
    "pca = PCA(n_components=2)\n",
    "result_en_pca = pca.fit_transform(X_en)"
   ]
  },
  {
   "cell_type": "code",
   "execution_count": 18,
   "metadata": {},
   "outputs": [
    {
     "name": "stdout",
     "output_type": "stream",
     "text": [
      "un\n",
      "deux\n",
      "trois\n",
      "quatre\n",
      "cinq\n",
      "six\n",
      "sept\n"
     ]
    },
    {
     "data": {
      "image/png": "[encoded data removed]",
      "text/plain": [
       "<matplotlib.figure.Figure at 0x1c3b25358>"
      ]
     },
     "metadata": {},
     "output_type": "display_data"
    }
   ],
   "source": [
    "import numpy as np\n",
    "import matplotlib.pyplot as plt\n",
    "#FRENCH\n",
    "# create a scatter plot of the projection\n",
    "index_fr=[list(model_fr.wv.vocab).index(\"un\"),list(model_fr.wv.vocab).index(\"deux\"),list(model_fr.wv.vocab).index(\"trois\"),list(model_fr.wv.vocab).index(\"quatre\"),list(model_fr.wv.vocab).index(\"cinq\"),list(model_fr.wv.vocab).index(\"six\"),list(model_fr.wv.vocab).index(\"sept\")]\n",
    "result_fr=np.array([result_fr_pca[i] for i in index_fr])\n",
    "plt.scatter(-result_fr[:, 0],-result_fr[:, 1])\n",
    "fr_words = [ list(model_fr.wv.vocab)[i] for i in index_fr]\n",
    "for i, word in enumerate(fr_words):\n",
    "    print(word)\n",
    "    plt.annotate(word, xy=(-result_fr[i, 0], -result_fr[i, 1]))\n",
    "plt.show()"
   ]
  },
  {
   "cell_type": "code",
   "execution_count": 19,
   "metadata": {},
   "outputs": [
    {
     "name": "stdout",
     "output_type": "stream",
     "text": [
      "one\n",
      "two\n",
      "three\n",
      "four\n",
      "five\n",
      "six\n",
      "seven\n"
     ]
    },
    {
     "data": {
      "image/png": "[encoded data removed]",
      "text/plain": [
       "<matplotlib.figure.Figure at 0x1c3849cf8>"
      ]
     },
     "metadata": {},
     "output_type": "display_data"
    }
   ],
   "source": [
    "#ENGLISH\n",
    "# create a scatter plot of the projection\n",
    "index_en=[list(model_en.wv.vocab).index(\"one\"),list(model_en.wv.vocab).index(\"two\"),list(model_en.wv.vocab).index(\"three\"),list(model_en.wv.vocab).index(\"four\"),list(model_en.wv.vocab).index(\"five\"),list(model_en.wv.vocab).index(\"six\"),list(model_en.wv.vocab).index(\"seven\")]\n",
    "result_en=np.array([result_en_pca[i] for i in index_en])\n",
    "plt.scatter(result_en[:, 0], result_en[:, 1])\n",
    "en_words = [ list(model_en.wv.vocab)[i] for i in index_en]\n",
    "for i, word in enumerate(en_words):\n",
    "    print(word)\n",
    "    plt.annotate(word, xy=(result_en[i, 0], result_en[i, 1]))\n",
    "plt.show()"
   ]
  },
  {
   "cell_type": "markdown",
   "metadata": {},
   "source": [
    "# Reducing Objective Function"
   ]
  },
  {
   "cell_type": "code",
   "execution_count": 20,
   "metadata": {},
   "outputs": [],
   "source": [
    "from googletrans import Translator  # Import Translator module from googletrans package\n",
    "translator = Translator() # Create object of Translator."
   ]
  },
  {
   "cell_type": "code",
   "execution_count": 21,
   "metadata": {},
   "outputs": [
    {
     "data": {
      "text/plain": [
       "'un'"
      ]
     },
     "execution_count": 21,
     "metadata": {},
     "output_type": "execute_result"
    }
   ],
   "source": [
    "translated = translator.translate('one',src=\"en\",dest=\"fr\")\n",
    "translated.text"
   ]
  },
  {
   "cell_type": "code",
   "execution_count": 43,
   "metadata": {},
   "outputs": [],
   "source": [
    "import _dynet as dy\n",
    "dyparams = dy.DynetParams()\n",
    "dyparams.set_mem(2048)\n",
    "dyparams.set_autobatch(True)\n",
    "dyparams.init()\n",
    "\n",
    "pc = dy.ParameterCollection()\n",
    "\n",
    "# create a parameter collection and add the parameters.\n",
    "m = dy.ParameterCollection()\n",
    "DIMM=100\n",
    "TOTAL_WORDS_FR=340762\n",
    "TOTAL_WORDS_EN=340762\n",
    "\n",
    "pW = m.add_lookup_parameters((TOTAL_WORDS_EN,TOTAL_WORDS_EN))\n",
    "pX = m.add_lookup_parameters((TOTAL_WORDS_EN, DIMM))\n",
    "pX.init_from_array(X_en)\n",
    "pZ = m.add_lookup_parameters((TOTAL_WORDS_EN, DIMM))\n",
    "pZ.init_from_array(X_fr[:TOTAL_WORDS_EN])\n",
    "\n",
    "#pb = m.add_parameters((nodes_in_first_layer))\n",
    "\n",
    "dy.renew_cg() # new computation graph. not strictly needed here, but good practice.\n",
    "\n",
    "# associate the parameters with cg Expressions\n",
    "W = dy.parameter(pW)\n",
    "X = dy.parameter(pX)\n",
    "Z = dy.parameter(pZ)\n",
    "\n",
    "#b = dy.parameter(pb)\n"
   ]
  },
  {
   "cell_type": "code",
   "execution_count": 45,
   "metadata": {},
   "outputs": [],
   "source": [
    "# an input vector of size 2. Also an expression.\n",
    "output = dy.logistic((X*W)-Z)"
   ]
  },
  {
   "cell_type": "code",
   "execution_count": null,
   "metadata": {},
   "outputs": [],
   "source": [
    "len(men)"
   ]
  },
  {
   "cell_type": "code",
   "execution_count": null,
   "metadata": {},
   "outputs": [],
   "source": [
    "men=model_en[model_en.wv.vocab]"
   ]
  },
  {
   "cell_type": "code",
   "execution_count": null,
   "metadata": {},
   "outputs": [],
   "source": [
    "len(X_en[0])"
   ]
  },
  {
   "cell_type": "code",
   "execution_count": null,
   "metadata": {
    "collapsed": true
   },
   "outputs": [],
   "source": []
  }
 ],
 "metadata": {
  "kernelspec": {
   "display_name": "Python 3",
   "language": "python",
   "name": "python3"
  },
  "language_info": {
   "codemirror_mode": {
    "name": "ipython",
    "version": 3
   },
   "file_extension": ".py",
   "mimetype": "text/x-python",
   "name": "python",
   "nbconvert_exporter": "python",
   "pygments_lexer": "ipython3",
   "version": "3.6.3"
  }
 },
 "nbformat": 4,
 "nbformat_minor": 2
}
